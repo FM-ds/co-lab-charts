{
 "cells": [
  {
   "cell_type": "code",
   "execution_count": 1,
   "metadata": {},
   "outputs": [],
   "source": [
    "import pandas as pd\n",
    "import pandas as pd\n",
    "import numpy as np\n",
    "import pycountry\n",
    "import geopandas as gpd\n",
    "import requests\n",
    "\n",
    "import altair as alt\n",
    "from vega_datasets import data\n",
    "import eco_style\n",
    "alt.themes.enable('colab_site')\n",
    "import json"
   ]
  },
  {
   "cell_type": "code",
   "execution_count": 14,
   "metadata": {},
   "outputs": [
    {
     "data": {
      "text/plain": [
       "'{\"config\": {\"font\": \"Roboto\", \"mark\": {\"line\": {\"interpolate\": \"linear\"}}, \"view\": {\"stroke\": \"transparent\", \"width\": 400, \"height\": 300}, \"range\": {\"category\": [\"#179fdb\", \"#e6224b\", \"#f4c245\", \"#122b39\", \"#eb5c2e\", \"#36b7b4\"], \"diverging\": [\"#E6224B\", \"#E54753\", \"#C9C9C9\", \"#179FDB\", \"#122B39\"], \"heatmap\": [\"#C9C9C9\", \"#179FDB\", \"#0063AF\", \"#122B39\"], \"ordinal\": [\"#00A767\", \"#36B7B4\", \"#179FDB\", \"#0063AF\", \"#243B5A\"]}, \"axisX\": {\"labelColor\": \"#122b39\", \"tickColor\": \"#122b39\", \"domainColor\": \"#122b39\", \"domainOpacity\": 0.5, \"gridOpacity\": 0, \"labelFont\": \"Roboto\", \"labelAngle\": 0, \"labelAlign\": \"center\", \"labelFontSize\": 11, \"labelPadding\": 5, \"tickCount\": 10, \"tickSize\": 0, \"title\": \"\"}, \"axisY\": {\"labelColor\": \"#122b39\", \"labelFont\": \"Roboto\", \"tickColor\": \"#122b39\", \"domainColor\": \"#122b39\", \"gridColor\": \"#122b39\", \"gridDash\": [1, 5], \"gridOpacity\": 0.5, \"labelPadding\": 5, \"labelFontSize\": 11, \"domainOpacity\": 0.5, \"tickSize\": 0, \"title\": null, \"titleAlign\": \"left\", \"titleAngle\": 0, \"titleBaseline\": \"bottom\", \"titleColor\": \"#122b39\", \"titleOpacity\": 0.9, \"titleX\": 0, \"titleY\": -7}}}'"
      ]
     },
     "execution_count": 14,
     "metadata": {},
     "output_type": "execute_result"
    }
   ],
   "source": [
    "json.dumps(eco_style.colab_site())"
   ]
  },
  {
   "cell_type": "code",
   "execution_count": 12,
   "metadata": {},
   "outputs": [
    {
     "name": "stderr",
     "output_type": "stream",
     "text": [
      "/Users/finn/anaconda3/lib/python3.11/site-packages/altair/utils/core.py:395: FutureWarning: the convert_dtype parameter is deprecated and will be removed in a future version.  Do ``ser.astype(object).apply()`` instead if you want ``convert_dtype=False``.\n",
      "  col = df[col_name].apply(to_list_if_array, convert_dtype=False)\n",
      "/Users/finn/anaconda3/lib/python3.11/site-packages/altair/utils/core.py:395: FutureWarning: the convert_dtype parameter is deprecated and will be removed in a future version.  Do ``ser.astype(object).apply()`` instead if you want ``convert_dtype=False``.\n",
      "  col = df[col_name].apply(to_list_if_array, convert_dtype=False)\n",
      "/Users/finn/anaconda3/lib/python3.11/site-packages/altair/utils/core.py:395: FutureWarning: the convert_dtype parameter is deprecated and will be removed in a future version.  Do ``ser.astype(object).apply()`` instead if you want ``convert_dtype=False``.\n",
      "  col = df[col_name].apply(to_list_if_array, convert_dtype=False)\n",
      "/Users/finn/anaconda3/lib/python3.11/site-packages/altair/utils/core.py:395: FutureWarning: the convert_dtype parameter is deprecated and will be removed in a future version.  Do ``ser.astype(object).apply()`` instead if you want ``convert_dtype=False``.\n",
      "  col = df[col_name].apply(to_list_if_array, convert_dtype=False)\n"
     ]
    },
    {
     "data": {
      "text/html": [
       "\n",
       "<style>\n",
       "  #altair-viz-388cb9aa75824d359a747c567ba4c27c.vega-embed {\n",
       "    width: 100%;\n",
       "    display: flex;\n",
       "  }\n",
       "\n",
       "  #altair-viz-388cb9aa75824d359a747c567ba4c27c.vega-embed details,\n",
       "  #altair-viz-388cb9aa75824d359a747c567ba4c27c.vega-embed details summary {\n",
       "    position: relative;\n",
       "  }\n",
       "</style>\n",
       "<div id=\"altair-viz-388cb9aa75824d359a747c567ba4c27c\"></div>\n",
       "<script type=\"text/javascript\">\n",
       "  var VEGA_DEBUG = (typeof VEGA_DEBUG == \"undefined\") ? {} : VEGA_DEBUG;\n",
       "  (function(spec, embedOpt){\n",
       "    let outputDiv = document.currentScript.previousElementSibling;\n",
       "    if (outputDiv.id !== \"altair-viz-388cb9aa75824d359a747c567ba4c27c\") {\n",
       "      outputDiv = document.getElementById(\"altair-viz-388cb9aa75824d359a747c567ba4c27c\");\n",
       "    }\n",
       "    const paths = {\n",
       "      \"vega\": \"https://cdn.jsdelivr.net/npm/vega@5?noext\",\n",
       "      \"vega-lib\": \"https://cdn.jsdelivr.net/npm/vega-lib?noext\",\n",
       "      \"vega-lite\": \"https://cdn.jsdelivr.net/npm/vega-lite@5.8.0?noext\",\n",
       "      \"vega-embed\": \"https://cdn.jsdelivr.net/npm/vega-embed@6?noext\",\n",
       "    };\n",
       "\n",
       "    function maybeLoadScript(lib, version) {\n",
       "      var key = `${lib.replace(\"-\", \"\")}_version`;\n",
       "      return (VEGA_DEBUG[key] == version) ?\n",
       "        Promise.resolve(paths[lib]) :\n",
       "        new Promise(function(resolve, reject) {\n",
       "          var s = document.createElement('script');\n",
       "          document.getElementsByTagName(\"head\")[0].appendChild(s);\n",
       "          s.async = true;\n",
       "          s.onload = () => {\n",
       "            VEGA_DEBUG[key] = version;\n",
       "            return resolve(paths[lib]);\n",
       "          };\n",
       "          s.onerror = () => reject(`Error loading script: ${paths[lib]}`);\n",
       "          s.src = paths[lib];\n",
       "        });\n",
       "    }\n",
       "\n",
       "    function showError(err) {\n",
       "      outputDiv.innerHTML = `<div class=\"error\" style=\"color:red;\">${err}</div>`;\n",
       "      throw err;\n",
       "    }\n",
       "\n",
       "    function displayChart(vegaEmbed) {\n",
       "      vegaEmbed(outputDiv, spec, embedOpt)\n",
       "        .catch(err => showError(`Javascript Error: ${err.message}<br>This usually means there's a typo in your chart specification. See the javascript console for the full traceback.`));\n",
       "    }\n",
       "\n",
       "    if(typeof define === \"function\" && define.amd) {\n",
       "      requirejs.config({paths});\n",
       "      require([\"vega-embed\"], displayChart, err => showError(`Error loading script: ${err.message}`));\n",
       "    } else {\n",
       "      maybeLoadScript(\"vega\", \"5\")\n",
       "        .then(() => maybeLoadScript(\"vega-lite\", \"5.8.0\"))\n",
       "        .then(() => maybeLoadScript(\"vega-embed\", \"6\"))\n",
       "        .catch(showError)\n",
       "        .then(() => displayChart(vegaEmbed));\n",
       "    }\n",
       "  })({\"config\": {\"font\": \"Roboto\", \"mark\": {\"line\": {\"interpolate\": \"linear\"}}, \"view\": {\"stroke\": \"transparent\", \"width\": 400, \"height\": 300}, \"range\": {\"category\": [\"#179fdb\", \"#e6224b\", \"#f4c245\", \"#122b39\", \"#eb5c2e\", \"#36b7b4\"], \"diverging\": [\"#E6224B\", \"#E54753\", \"#C9C9C9\", \"#179FDB\", \"#122B39\"], \"heatmap\": [\"#C9C9C9\", \"#179FDB\", \"#0063AF\", \"#122B39\"], \"ordinal\": [\"#00A767\", \"#36B7B4\", \"#179FDB\", \"#0063AF\", \"#243B5A\"]}, \"axisX\": {\"labelColor\": \"#122b39\", \"tickColor\": \"#122b39\", \"domainColor\": \"#122b39\", \"domainOpacity\": 0.5, \"gridOpacity\": 0, \"labelFont\": \"Roboto\", \"labelAngle\": 0, \"labelAlign\": \"center\", \"labelFontSize\": 11, \"labelPadding\": 5, \"tickCount\": 10, \"tickSize\": 0, \"title\": \"\"}, \"axisY\": {\"labelColor\": \"#122b39\", \"labelFont\": \"Roboto\", \"tickColor\": \"#122b39\", \"domainColor\": \"#122b39\", \"gridColor\": \"#122b39\", \"gridDash\": [1, 5], \"gridOpacity\": 0.5, \"labelPadding\": 5, \"labelFontSize\": 11, \"domainOpacity\": 0.5, \"tickSize\": 0, \"title\": null, \"titleAlign\": \"left\", \"titleAngle\": 0, \"titleBaseline\": \"bottom\", \"titleColor\": \"#122b39\", \"titleOpacity\": 0.9, \"titleX\": 0, \"titleY\": -7}}, \"layer\": [{\"mark\": {\"type\": \"line\"}, \"encoding\": {\"color\": {\"field\": \"country\", \"legend\": null, \"scale\": {\"domain\": [\"Tanzania\", \"Uganda\", \"South Africa\", \"Kenya\", \"Ethiopia\", \"Cambodia\", \"Ghana\"], \"range\": [\"#001f3f\", \"#4269d0\", \"#efb118\", \"#ff725c\", \"#6cc5b0\", \"#3ca951\", \"#ff8ab7\", \"#a463f2\", \"#97bbf5\", \"#9c6b4e\"]}, \"type\": \"nominal\"}, \"size\": {\"condition\": {\"test\": \"(datum.country === 'Tanzania')\", \"value\": 2}, \"value\": 1.5}, \"strokeDash\": {\"condition\": {\"test\": \"(datum.country === 'Tanzania')\", \"value\": [0, 0]}, \"value\": [5, 2]}, \"x\": {\"axis\": {\"title\": \"\"}, \"field\": \"date\", \"type\": \"temporal\"}, \"y\": {\"axis\": {\"format\": \"%\", \"title\": \"\"}, \"field\": \"value\", \"type\": \"quantitative\"}}}, {\"mark\": {\"type\": \"text\", \"align\": \"left\", \"dx\": 5, \"dy\": {\"expr\": \"{\\\"Tanzania\\\": 0, \\\"Uganda\\\": 0, \\\"South Africa\\\": -5, \\\"Kenya\\\": -5, \\\"Ethiopia\\\": 0, \\\"Cambodia\\\": 0, \\\"Ghana\\\": 0}[datum.country]\"}}, \"encoding\": {\"color\": {\"field\": \"country\", \"legend\": null, \"scale\": {\"domain\": [\"Tanzania\", \"Uganda\", \"South Africa\", \"Kenya\", \"Ethiopia\", \"Cambodia\", \"Ghana\"], \"range\": [\"#001f3f\", \"#4269d0\", \"#efb118\", \"#ff725c\", \"#6cc5b0\", \"#3ca951\", \"#ff8ab7\", \"#a463f2\", \"#97bbf5\", \"#9c6b4e\"]}, \"type\": \"nominal\"}, \"size\": {\"condition\": {\"test\": \"(datum.country === 'Tanzania')\", \"value\": 12}, \"value\": 10}, \"text\": {\"field\": \"label\", \"type\": \"nominal\"}, \"x\": {\"axis\": {\"title\": \"\"}, \"field\": \"date\", \"type\": \"temporal\"}, \"y\": {\"axis\": {\"format\": \"%\", \"title\": \"\"}, \"field\": \"value\", \"type\": \"quantitative\"}}}], \"data\": {\"name\": \"data-42a371d69798fd3ea951220ced24578d\"}, \"height\": 300, \"title\": {\"text\": \"Manufacturing value added\", \"anchor\": \"start\", \"dx\": 27, \"fontSize\": 14, \"fontWeight\": \"normal\", \"subtitle\": [\"Percentage of GDP\", \"Source: World Bank, author's calculations\"], \"subtitleFontSize\": 12, \"subtitleFontWeight\": \"lighter\"}, \"width\": \"container\", \"$schema\": \"https://vega.github.io/schema/vega-lite/v5.8.0.json\", \"datasets\": {\"data-42a371d69798fd3ea951220ced24578d\": [{\"country\": \"Uganda\", \"date\": \"1990\", \"value\": 0.111290176, \"label\": \"\"}, {\"country\": \"South Africa\", \"date\": \"1990\", \"value\": 0.154480968, \"label\": \"\"}, {\"country\": \"Kenya\", \"date\": \"1990\", \"value\": 0.119801923, \"label\": \"\"}, {\"country\": \"Tanzania\", \"date\": \"1990\", \"value\": 0.068819734, \"label\": \"\"}, {\"country\": \"Ethiopia\", \"date\": \"1990\", \"value\": 0.051586032, \"label\": \"\"}, {\"country\": \"Uganda\", \"date\": \"1991\", \"value\": 0.113330487, \"label\": \"\"}, {\"country\": \"South Africa\", \"date\": \"1991\", \"value\": 0.14894014, \"label\": \"\"}, {\"country\": \"Kenya\", \"date\": \"1991\", \"value\": 0.122590495, \"label\": \"\"}, {\"country\": \"Tanzania\", \"date\": \"1991\", \"value\": 0.068679107, \"label\": \"\"}, {\"country\": \"Ethiopia\", \"date\": \"1991\", \"value\": 0.036152267, \"label\": \"\"}, {\"country\": \"Uganda\", \"date\": \"1992\", \"value\": 0.126316906, \"label\": \"\"}, {\"country\": \"South Africa\", \"date\": \"1992\", \"value\": 0.147201608, \"label\": \"\"}, {\"country\": \"Kenya\", \"date\": \"1992\", \"value\": 0.125061534, \"label\": \"\"}, {\"country\": \"Tanzania\", \"date\": \"1992\", \"value\": 0.065515776, \"label\": \"\"}, {\"country\": \"Ethiopia\", \"date\": \"1992\", \"value\": 0.032512749, \"label\": \"\"}, {\"country\": \"Cambodia\", \"date\": \"1993\", \"value\": 0.034620172, \"label\": \"\"}, {\"country\": \"Uganda\", \"date\": \"1993\", \"value\": 0.125167436, \"label\": \"\"}, {\"country\": \"South Africa\", \"date\": \"1993\", \"value\": 0.145143118, \"label\": \"\"}, {\"country\": \"Kenya\", \"date\": \"1993\", \"value\": 0.126865622, \"label\": \"\"}, {\"country\": \"Tanzania\", \"date\": \"1993\", \"value\": 0.065140609, \"label\": \"\"}, {\"country\": \"Ethiopia\", \"date\": \"1993\", \"value\": 0.037277035, \"label\": \"\"}, {\"country\": \"Cambodia\", \"date\": \"1994\", \"value\": 0.057883152, \"label\": \"\"}, {\"country\": \"Uganda\", \"date\": \"1994\", \"value\": 0.137176024, \"label\": \"\"}, {\"country\": \"South Africa\", \"date\": \"1994\", \"value\": 0.144439905, \"label\": \"\"}, {\"country\": \"Kenya\", \"date\": \"1994\", \"value\": 0.125958789, \"label\": \"\"}, {\"country\": \"Tanzania\", \"date\": \"1994\", \"value\": 0.064012089, \"label\": \"\"}, {\"country\": \"Ethiopia\", \"date\": \"1994\", \"value\": 0.040186088, \"label\": \"\"}, {\"country\": \"Cambodia\", \"date\": \"1995\", \"value\": 0.061886118, \"label\": \"\"}, {\"country\": \"Uganda\", \"date\": \"1995\", \"value\": 0.144318388, \"label\": \"\"}, {\"country\": \"South Africa\", \"date\": \"1995\", \"value\": 0.1492032, \"label\": \"\"}, {\"country\": \"Kenya\", \"date\": \"1995\", \"value\": 0.125347479, \"label\": \"\"}, {\"country\": \"Tanzania\", \"date\": \"1995\", \"value\": 0.062810651, \"label\": \"\"}, {\"country\": \"Ethiopia\", \"date\": \"1995\", \"value\": 0.041230377, \"label\": \"\"}, {\"country\": \"Cambodia\", \"date\": \"1996\", \"value\": 0.065763925, \"label\": \"\"}, {\"country\": \"Uganda\", \"date\": \"1996\", \"value\": 0.158386599, \"label\": \"\"}, {\"country\": \"South Africa\", \"date\": \"1996\", \"value\": 0.145054693, \"label\": \"\"}, {\"country\": \"Kenya\", \"date\": \"1996\", \"value\": 0.124771204, \"label\": \"\"}, {\"country\": \"Tanzania\", \"date\": \"1996\", \"value\": 0.062975493, \"label\": \"\"}, {\"country\": \"Ethiopia\", \"date\": \"1996\", \"value\": 0.037856329, \"label\": \"\"}, {\"country\": \"Cambodia\", \"date\": \"1997\", \"value\": 0.08062461, \"label\": \"\"}, {\"country\": \"Uganda\", \"date\": \"1997\", \"value\": 0.170964228, \"label\": \"\"}, {\"country\": \"South Africa\", \"date\": \"1997\", \"value\": 0.145196071, \"label\": \"\"}, {\"country\": \"Kenya\", \"date\": \"1997\", \"value\": 0.124131017, \"label\": \"\"}, {\"country\": \"Tanzania\", \"date\": \"1997\", \"value\": 0.063872744, \"label\": \"\"}, {\"country\": \"Ethiopia\", \"date\": \"1997\", \"value\": 0.037794421, \"label\": \"\"}, {\"country\": \"Cambodia\", \"date\": \"1998\", \"value\": 0.08868784, \"label\": \"\"}, {\"country\": \"Uganda\", \"date\": \"1998\", \"value\": 0.18643764, \"label\": \"\"}, {\"country\": \"South Africa\", \"date\": \"1998\", \"value\": 0.144184755, \"label\": \"\"}, {\"country\": \"Kenya\", \"date\": \"1998\", \"value\": 0.117634927, \"label\": \"\"}, {\"country\": \"Tanzania\", \"date\": \"1998\", \"value\": 0.06651523, \"label\": \"\"}, {\"country\": \"Ethiopia\", \"date\": \"1998\", \"value\": 0.039298497, \"label\": \"\"}, {\"country\": \"Cambodia\", \"date\": \"1999\", \"value\": 0.094211011, \"label\": \"\"}, {\"country\": \"Uganda\", \"date\": \"1999\", \"value\": 0.197009143, \"label\": \"\"}, {\"country\": \"South Africa\", \"date\": \"1999\", \"value\": 0.141650258, \"label\": \"\"}, {\"country\": \"Kenya\", \"date\": \"1999\", \"value\": 0.112316366, \"label\": \"\"}, {\"country\": \"Tanzania\", \"date\": \"1999\", \"value\": 0.067275186, \"label\": \"\"}, {\"country\": \"Ethiopia\", \"date\": \"1999\", \"value\": 0.040622765, \"label\": \"\"}, {\"country\": \"Cambodia\", \"date\": \"2000\", \"value\": 0.111592262, \"label\": \"\"}, {\"country\": \"Uganda\", \"date\": \"2000\", \"value\": 0.20153344, \"label\": \"\"}, {\"country\": \"South Africa\", \"date\": \"2000\", \"value\": 0.146951947, \"label\": \"\"}, {\"country\": \"Kenya\", \"date\": \"2000\", \"value\": 0.112406104, \"label\": \"\"}, {\"country\": \"Tanzania\", \"date\": \"2000\", \"value\": 0.067485918, \"label\": \"\"}, {\"country\": \"Ethiopia\", \"date\": \"2000\", \"value\": 0.040846336, \"label\": \"\"}, {\"country\": \"Cambodia\", \"date\": \"2001\", \"value\": 0.118868666, \"label\": \"\"}, {\"country\": \"Uganda\", \"date\": \"2001\", \"value\": 0.198705549, \"label\": \"\"}, {\"country\": \"South Africa\", \"date\": \"2001\", \"value\": 0.14766739, \"label\": \"\"}, {\"country\": \"Kenya\", \"date\": \"2001\", \"value\": 0.10862992, \"label\": \"\"}, {\"country\": \"Tanzania\", \"date\": \"2001\", \"value\": 0.066810064, \"label\": \"\"}, {\"country\": \"Ethiopia\", \"date\": \"2001\", \"value\": 0.039151506, \"label\": \"\"}, {\"country\": \"Cambodia\", \"date\": \"2002\", \"value\": 0.127600857, \"label\": \"\"}, {\"country\": \"Uganda\", \"date\": \"2002\", \"value\": 0.195078476, \"label\": \"\"}, {\"country\": \"South Africa\", \"date\": \"2002\", \"value\": 0.146385273, \"label\": \"\"}, {\"country\": \"Kenya\", \"date\": \"2002\", \"value\": 0.108126805, \"label\": \"\"}, {\"country\": \"Tanzania\", \"date\": \"2002\", \"value\": 0.067025492, \"label\": \"\"}, {\"country\": \"Ethiopia\", \"date\": \"2002\", \"value\": 0.03926509, \"label\": \"\"}, {\"country\": \"Cambodia\", \"date\": \"2003\", \"value\": 0.132067296, \"label\": \"\"}, {\"country\": \"Uganda\", \"date\": \"2003\", \"value\": 0.191327084, \"label\": \"\"}, {\"country\": \"South Africa\", \"date\": \"2003\", \"value\": 0.140053023, \"label\": \"\"}, {\"country\": \"Kenya\", \"date\": \"2003\", \"value\": 0.111320219, \"label\": \"\"}, {\"country\": \"Tanzania\", \"date\": \"2003\", \"value\": 0.068462698, \"label\": \"\"}, {\"country\": \"Ethiopia\", \"date\": \"2003\", \"value\": 0.040616526, \"label\": \"\"}, {\"country\": \"Cambodia\", \"date\": \"2004\", \"value\": 0.140827973, \"label\": \"\"}, {\"country\": \"Uganda\", \"date\": \"2004\", \"value\": 0.190430318, \"label\": \"\"}, {\"country\": \"South Africa\", \"date\": \"2004\", \"value\": 0.140508565, \"label\": \"\"}, {\"country\": \"Kenya\", \"date\": \"2004\", \"value\": 0.110640156, \"label\": \"\"}, {\"country\": \"Tanzania\", \"date\": \"2004\", \"value\": 0.069657396, \"label\": \"\"}, {\"country\": \"Ethiopia\", \"date\": \"2004\", \"value\": 0.03836089, \"label\": \"\"}, {\"country\": \"Cambodia\", \"date\": \"2005\", \"value\": 0.136442496, \"label\": \"\"}, {\"country\": \"Uganda\", \"date\": \"2005\", \"value\": 0.196021755, \"label\": \"\"}, {\"country\": \"South Africa\", \"date\": \"2005\", \"value\": 0.141745947, \"label\": \"\"}, {\"country\": \"Kenya\", \"date\": \"2005\", \"value\": 0.109340275, \"label\": \"\"}, {\"country\": \"Tanzania\", \"date\": \"2005\", \"value\": 0.071019548, \"label\": \"\"}, {\"country\": \"Ethiopia\", \"date\": \"2005\", \"value\": 0.038778109, \"label\": \"\"}, {\"country\": \"Cambodia\", \"date\": \"2006\", \"value\": 0.144650671, \"label\": \"\"}, {\"country\": \"Uganda\", \"date\": \"2006\", \"value\": 0.189834059, \"label\": \"\"}, {\"country\": \"Ghana\", \"date\": \"2006\", \"value\": 0.155097546, \"label\": \"\"}, {\"country\": \"South Africa\", \"date\": \"2006\", \"value\": 0.142865884, \"label\": \"\"}, {\"country\": \"Kenya\", \"date\": \"2006\", \"value\": 0.111122747, \"label\": \"\"}, {\"country\": \"Tanzania\", \"date\": \"2006\", \"value\": 0.072263015, \"label\": \"\"}, {\"country\": \"Ethiopia\", \"date\": \"2006\", \"value\": 0.038591208, \"label\": \"\"}, {\"country\": \"Cambodia\", \"date\": \"2007\", \"value\": 0.142907697, \"label\": \"\"}, {\"country\": \"Uganda\", \"date\": \"2007\", \"value\": 0.184969926, \"label\": \"\"}, {\"country\": \"Ghana\", \"date\": \"2007\", \"value\": 0.146829371, \"label\": \"\"}, {\"country\": \"South Africa\", \"date\": \"2007\", \"value\": 0.142854841, \"label\": \"\"}, {\"country\": \"Kenya\", \"date\": \"2007\", \"value\": 0.108548856, \"label\": \"\"}, {\"country\": \"Tanzania\", \"date\": \"2007\", \"value\": 0.073519938, \"label\": \"\"}, {\"country\": \"Ethiopia\", \"date\": \"2007\", \"value\": 0.038062867, \"label\": \"\"}, {\"country\": \"Cambodia\", \"date\": \"2008\", \"value\": 0.138121086, \"label\": \"\"}, {\"country\": \"Uganda\", \"date\": \"2008\", \"value\": 0.182498266, \"label\": \"\"}, {\"country\": \"Ghana\", \"date\": \"2008\", \"value\": 0.139498887, \"label\": \"\"}, {\"country\": \"South Africa\", \"date\": \"2008\", \"value\": 0.141642156, \"label\": \"\"}, {\"country\": \"Kenya\", \"date\": \"2008\", \"value\": 0.10953447, \"label\": \"\"}, {\"country\": \"Tanzania\", \"date\": \"2008\", \"value\": 0.077466186, \"label\": \"\"}, {\"country\": \"Ethiopia\", \"date\": \"2008\", \"value\": 0.037538357, \"label\": \"\"}, {\"country\": \"Cambodia\", \"date\": \"2009\", \"value\": 0.116596795, \"label\": \"\"}, {\"country\": \"Uganda\", \"date\": \"2009\", \"value\": 0.188027047, \"label\": \"\"}, {\"country\": \"Ghana\", \"date\": \"2009\", \"value\": 0.13131591, \"label\": \"\"}, {\"country\": \"South Africa\", \"date\": \"2009\", \"value\": 0.128567372, \"label\": \"\"}, {\"country\": \"Kenya\", \"date\": \"2009\", \"value\": 0.104911779, \"label\": \"\"}, {\"country\": \"Tanzania\", \"date\": \"2009\", \"value\": 0.076871055, \"label\": \"\"}, {\"country\": \"Ethiopia\", \"date\": \"2009\", \"value\": 0.037477093, \"label\": \"\"}, {\"country\": \"Cambodia\", \"date\": \"2010\", \"value\": 0.142561393, \"label\": \"\"}, {\"country\": \"Uganda\", \"date\": \"2010\", \"value\": 0.186042743, \"label\": \"\"}, {\"country\": \"Ghana\", \"date\": \"2010\", \"value\": 0.130951685, \"label\": \"\"}, {\"country\": \"South Africa\", \"date\": \"2010\", \"value\": 0.132145407, \"label\": \"\"}, {\"country\": \"Kenya\", \"date\": \"2010\", \"value\": 0.102483944, \"label\": \"\"}, {\"country\": \"Tanzania\", \"date\": \"2010\", \"value\": 0.078750101, \"label\": \"\"}, {\"country\": \"Ethiopia\", \"date\": \"2010\", \"value\": 0.036363991, \"label\": \"\"}, {\"country\": \"Cambodia\", \"date\": \"2011\", \"value\": 0.154674438, \"label\": \"\"}, {\"country\": \"Uganda\", \"date\": \"2011\", \"value\": 0.183325435, \"label\": \"\"}, {\"country\": \"Ghana\", \"date\": \"2011\", \"value\": 0.134342249, \"label\": \"\"}, {\"country\": \"South Africa\", \"date\": \"2011\", \"value\": 0.131973082, \"label\": \"\"}, {\"country\": \"Kenya\", \"date\": \"2011\", \"value\": 0.10503333, \"label\": \"\"}, {\"country\": \"Tanzania\", \"date\": \"2011\", \"value\": 0.07802352, \"label\": \"\"}, {\"country\": \"Ethiopia\", \"date\": \"2011\", \"value\": 0.035729492, \"label\": \"\"}, {\"country\": \"Cambodia\", \"date\": \"2012\", \"value\": 0.154019009, \"label\": \"\"}, {\"country\": \"Uganda\", \"date\": \"2012\", \"value\": 0.181315113, \"label\": \"\"}, {\"country\": \"Ghana\", \"date\": \"2012\", \"value\": 0.125321172, \"label\": \"\"}, {\"country\": \"South Africa\", \"date\": \"2012\", \"value\": 0.131586707, \"label\": \"\"}, {\"country\": \"Kenya\", \"date\": \"2012\", \"value\": 0.100814028, \"label\": \"\"}, {\"country\": \"Tanzania\", \"date\": \"2012\", \"value\": 0.077802011, \"label\": \"\"}, {\"country\": \"Ethiopia\", \"date\": \"2012\", \"value\": 0.036767578, \"label\": \"\"}, {\"country\": \"Cambodia\", \"date\": \"2013\", \"value\": 0.157556052, \"label\": \"\"}, {\"country\": \"Uganda\", \"date\": \"2013\", \"value\": 0.170703291, \"label\": \"\"}, {\"country\": \"Ghana\", \"date\": \"2013\", \"value\": 0.115422123, \"label\": \"\"}, {\"country\": \"South Africa\", \"date\": \"2013\", \"value\": 0.129703155, \"label\": \"\"}, {\"country\": \"Kenya\", \"date\": \"2013\", \"value\": 0.101963323, \"label\": \"\"}, {\"country\": \"Tanzania\", \"date\": \"2013\", \"value\": 0.075569313, \"label\": \"\"}, {\"country\": \"Ethiopia\", \"date\": \"2013\", \"value\": 0.038879329, \"label\": \"\"}, {\"country\": \"Cambodia\", \"date\": \"2014\", \"value\": 0.15682627, \"label\": \"\"}, {\"country\": \"Uganda\", \"date\": \"2014\", \"value\": 0.16591854, \"label\": \"\"}, {\"country\": \"Ghana\", \"date\": \"2014\", \"value\": 0.109335458, \"label\": \"\"}, {\"country\": \"South Africa\", \"date\": \"2014\", \"value\": 0.127069731, \"label\": \"\"}, {\"country\": \"Kenya\", \"date\": \"2014\", \"value\": 0.098913234, \"label\": \"\"}, {\"country\": \"Tanzania\", \"date\": \"2014\", \"value\": 0.07786063, \"label\": \"\"}, {\"country\": \"Ethiopia\", \"date\": \"2014\", \"value\": 0.041128902, \"label\": \"\"}, {\"country\": \"Cambodia\", \"date\": \"2015\", \"value\": 0.16013772, \"label\": \"\"}, {\"country\": \"Uganda\", \"date\": \"2015\", \"value\": 0.176085477, \"label\": \"\"}, {\"country\": \"Ghana\", \"date\": \"2015\", \"value\": 0.110982996, \"label\": \"\"}, {\"country\": \"South Africa\", \"date\": \"2015\", \"value\": 0.125179445, \"label\": \"\"}, {\"country\": \"Kenya\", \"date\": \"2015\", \"value\": 0.099751798, \"label\": \"\"}, {\"country\": \"Tanzania\", \"date\": \"2015\", \"value\": 0.07855565, \"label\": \"\"}, {\"country\": \"Ethiopia\", \"date\": \"2015\", \"value\": 0.044046191, \"label\": \"\"}, {\"country\": \"Cambodia\", \"date\": \"2016\", \"value\": 0.160307393, \"label\": \"\"}, {\"country\": \"Uganda\", \"date\": \"2016\", \"value\": 0.169050964, \"label\": \"\"}, {\"country\": \"Ghana\", \"date\": \"2016\", \"value\": 0.115863215, \"label\": \"\"}, {\"country\": \"South Africa\", \"date\": \"2016\", \"value\": 0.124911987, \"label\": \"\"}, {\"country\": \"Kenya\", \"date\": \"2016\", \"value\": 0.097534952, \"label\": \"\"}, {\"country\": \"Tanzania\", \"date\": \"2016\", \"value\": 0.081458845, \"label\": \"\"}, {\"country\": \"Ethiopia\", \"date\": \"2016\", \"value\": 0.049466621, \"label\": \"\"}, {\"country\": \"Cambodia\", \"date\": \"2017\", \"value\": 0.15948138, \"label\": \"\"}, {\"country\": \"Uganda\", \"date\": \"2017\", \"value\": 0.169769588, \"label\": \"\"}, {\"country\": \"Ghana\", \"date\": \"2017\", \"value\": 0.117349714, \"label\": \"\"}, {\"country\": \"South Africa\", \"date\": \"2017\", \"value\": 0.123249533, \"label\": \"\"}, {\"country\": \"Kenya\", \"date\": \"2017\", \"value\": 0.094583732, \"label\": \"\"}, {\"country\": \"Tanzania\", \"date\": \"2017\", \"value\": 0.082583294, \"label\": \"\"}, {\"country\": \"Ethiopia\", \"date\": \"2017\", \"value\": 0.056280003, \"label\": \"\"}, {\"country\": \"Cambodia\", \"date\": \"2018\", \"value\": 0.161889006, \"label\": \"\"}, {\"country\": \"Uganda\", \"date\": \"2018\", \"value\": 0.167087775, \"label\": \"\"}, {\"country\": \"Ghana\", \"date\": \"2018\", \"value\": 0.115078692, \"label\": \"\"}, {\"country\": \"South Africa\", \"date\": \"2018\", \"value\": 0.123201304, \"label\": \"\"}, {\"country\": \"Kenya\", \"date\": \"2018\", \"value\": 0.092729783, \"label\": \"\"}, {\"country\": \"Tanzania\", \"date\": \"2018\", \"value\": 0.084763985, \"label\": \"\"}, {\"country\": \"Ethiopia\", \"date\": \"2018\", \"value\": 0.056282739, \"label\": \"\"}, {\"country\": \"Cambodia\", \"date\": \"2019\", \"value\": 0.161402119, \"label\": \"\"}, {\"country\": \"Uganda\", \"date\": \"2019\", \"value\": 0.169069612, \"label\": \"\"}, {\"country\": \"Ghana\", \"date\": \"2019\", \"value\": 0.114877354, \"label\": \"\"}, {\"country\": \"South Africa\", \"date\": \"2019\", \"value\": 0.122024892, \"label\": \"\"}, {\"country\": \"Kenya\", \"date\": \"2019\", \"value\": 0.090546856, \"label\": \"\"}, {\"country\": \"Tanzania\", \"date\": \"2019\", \"value\": 0.083722462, \"label\": \"\"}, {\"country\": \"Ethiopia\", \"date\": \"2019\", \"value\": 0.055936352, \"label\": \"\"}, {\"country\": \"Cambodia\", \"date\": \"2020\", \"value\": 0.161988067, \"label\": \"\"}, {\"country\": \"Uganda\", \"date\": \"2020\", \"value\": 0.166284866, \"label\": \"\"}, {\"country\": \"Ghana\", \"date\": \"2020\", \"value\": 0.11647671, \"label\": \"\"}, {\"country\": \"South Africa\", \"date\": \"2020\", \"value\": 0.114534422, \"label\": \"\"}, {\"country\": \"Kenya\", \"date\": \"2020\", \"value\": 0.090532599, \"label\": \"\"}, {\"country\": \"Tanzania\", \"date\": \"2020\", \"value\": 0.084170492, \"label\": \"\"}, {\"country\": \"Ethiopia\", \"date\": \"2020\", \"value\": 0.056702593, \"label\": \"\"}, {\"country\": \"Cambodia\", \"date\": \"2021\", \"value\": 0.177807161, \"label\": \"\"}, {\"country\": \"Uganda\", \"date\": \"2021\", \"value\": 0.164146562, \"label\": \"\"}, {\"country\": \"Ghana\", \"date\": \"2021\", \"value\": 0.119874838, \"label\": \"\"}, {\"country\": \"South Africa\", \"date\": \"2021\", \"value\": 0.116708539, \"label\": \"\"}, {\"country\": \"Kenya\", \"date\": \"2021\", \"value\": 0.090294804, \"label\": \"\"}, {\"country\": \"Tanzania\", \"date\": \"2021\", \"value\": 0.084556658, \"label\": \"\"}, {\"country\": \"Ethiopia\", \"date\": \"2021\", \"value\": 0.056411794, \"label\": \"\"}, {\"country\": \"Cambodia\", \"date\": \"2022\", \"value\": 0.189528704, \"label\": \"\"}, {\"country\": \"Uganda\", \"date\": \"2022\", \"value\": 0.162966044, \"label\": \"\"}, {\"country\": \"Ghana\", \"date\": \"2022\", \"value\": 0.112601032, \"label\": \"\"}, {\"country\": \"South Africa\", \"date\": \"2022\", \"value\": 0.114098922, \"label\": \"\"}, {\"country\": \"Kenya\", \"date\": \"2022\", \"value\": 0.088481438, \"label\": \"Kenya\"}, {\"country\": \"Tanzania\", \"date\": \"2022\", \"value\": 0.084907604, \"label\": \"\"}, {\"country\": \"Ethiopia\", \"date\": \"2022\", \"value\": 0.056141303, \"label\": \"\"}, {\"country\": \"Cambodia\", \"date\": \"2023\", \"value\": 0.187299767, \"label\": \"Cambodia\"}, {\"country\": \"Uganda\", \"date\": \"2023\", \"value\": 0.159609402, \"label\": \"Uganda\"}, {\"country\": \"Ghana\", \"date\": \"2023\", \"value\": 0.110410642, \"label\": \"Ghana\"}, {\"country\": \"South Africa\", \"date\": \"2023\", \"value\": 0.1139277, \"label\": \"South Africa\"}, {\"country\": \"Tanzania\", \"date\": \"2023\", \"value\": 0.084997965, \"label\": \"Tanzania\"}, {\"country\": \"Ethiopia\", \"date\": \"2023\", \"value\": 0.056381817, \"label\": \"Ethiopia\"}]}}, {\"mode\": \"vega-lite\"});\n",
       "</script>"
      ],
      "text/plain": [
       "alt.LayerChart(...)"
      ]
     },
     "execution_count": 12,
     "metadata": {},
     "output_type": "execute_result"
    }
   ],
   "source": [
    "df = pd.read_csv(\"data/tza.csv\")\n",
    "df = df.melt(id_vars=[\"Manufacturing VA/GDP\"], var_name=\"date\", value_name=\"value\")\n",
    "df.columns = ['country', 'date', 'value']\n",
    "df = df.dropna()\n",
    "\n",
    "# add a label to the final row for each country\n",
    "df['label'] = np.where(df['date'] == df.groupby('country')['date'].transform('max'), df['country'], \"\")\n",
    "\n",
    "base = alt.Chart(df).encode(\n",
    "    x=alt.X('date:T', axis=alt.Axis(title='')),\n",
    "    y=alt.Y('value:Q', axis=alt.Axis(title='', format='%')),\n",
    "    color=alt.Color(\"country:N\", scale={\n",
    "    \"domain\": [ 'Tanzania',  'Uganda', 'South Africa', 'Kenya', 'Ethiopia',\n",
    "       'Cambodia', 'Ghana'],\n",
    "    \"range\": [\"#001f3f\", \"#4269d0\", \"#efb118\", \"#ff725c\", \"#6cc5b0\", \"#3ca951\", \"#ff8ab7\", \"#a463f2\", \"#97bbf5\", \"#9c6b4e\"]\n",
    "}, legend=None)\n",
    "\n",
    ")\n",
    "\n",
    "\n",
    "line = base.mark_line().encode(\n",
    "    strokeDash=alt.condition(alt.datum.country == \"Tanzania\", alt.value([0,0]), alt.value([5,2])),\n",
    "    size=alt.condition(alt.datum.country == \"Tanzania\", alt.value(2), alt.value(1.5)),\n",
    ")\n",
    "\n",
    "\n",
    "dx = {\n",
    "    \"Tanzania\": 0,\n",
    "    \"Uganda\": 0,\n",
    "    \"South Africa\": -5,\n",
    "    \"Kenya\": -5,\n",
    "    \"Ethiopia\": 0,\n",
    "    \"Cambodia\": 0,\n",
    "    \"Ghana\": 0,\n",
    "}\n",
    "\n",
    "labels = base.mark_text(\n",
    "    align='left',\n",
    "    dx=5,\n",
    "    dy=alt.expr(f\"{json.dumps(dx)}[datum.country]\")\n",
    ").encode(\n",
    "    text=alt.Text('label:N'),\n",
    "    size=alt.condition(alt.datum.country == \"Tanzania\", alt.value(12), alt.value(10)),\n",
    ")\n",
    "\n",
    "\n",
    "chart = (line + labels).properties(\n",
    "    width=\"container\",\n",
    "    height=300,\n",
    "    title=alt.TitleParams(\n",
    "        text=\"Manufacturing value added\",\n",
    "        subtitle=[\"Percentage of GDP\", \"Source: World Bank, author's calculations\"],\n",
    "        anchor=\"start\",\n",
    "        dx=27,\n",
    "        fontSize=14,\n",
    "        subtitleFontSize=12,\n",
    "        fontWeight=\"normal\",\n",
    "        subtitleFontWeight=\"lighter\",\n",
    "    \n",
    "    )\n",
    ")\n",
    "\n",
    "chart.save(\"charts/tza.json\")\n",
    "chart"
   ]
  },
  {
   "cell_type": "code",
   "execution_count": null,
   "metadata": {},
   "outputs": [],
   "source": []
  },
  {
   "cell_type": "code",
   "execution_count": 18,
   "metadata": {},
   "outputs": [
    {
     "data": {
      "text/plain": [
       "array(['Uganda', 'South Africa', 'Kenya', 'Tanzania', 'Ethiopia',\n",
       "       'Cambodia', 'Ghana'], dtype=object)"
      ]
     },
     "execution_count": 18,
     "metadata": {},
     "output_type": "execute_result"
    }
   ],
   "source": [
    "df.country.unique()"
   ]
  },
  {
   "cell_type": "code",
   "execution_count": 13,
   "metadata": {},
   "outputs": [
    {
     "data": {
      "text/html": [
       "<div>\n",
       "<style scoped>\n",
       "    .dataframe tbody tr th:only-of-type {\n",
       "        vertical-align: middle;\n",
       "    }\n",
       "\n",
       "    .dataframe tbody tr th {\n",
       "        vertical-align: top;\n",
       "    }\n",
       "\n",
       "    .dataframe thead th {\n",
       "        text-align: right;\n",
       "    }\n",
       "</style>\n",
       "<table border=\"1\" class=\"dataframe\">\n",
       "  <thead>\n",
       "    <tr style=\"text-align: right;\">\n",
       "      <th></th>\n",
       "      <th>country</th>\n",
       "      <th>date</th>\n",
       "      <th>value</th>\n",
       "    </tr>\n",
       "  </thead>\n",
       "  <tbody>\n",
       "    <tr>\n",
       "      <th>231</th>\n",
       "      <td>Cambodia</td>\n",
       "      <td>2023</td>\n",
       "      <td>0.187300</td>\n",
       "    </tr>\n",
       "    <tr>\n",
       "      <th>232</th>\n",
       "      <td>Uganda</td>\n",
       "      <td>2023</td>\n",
       "      <td>0.159609</td>\n",
       "    </tr>\n",
       "    <tr>\n",
       "      <th>234</th>\n",
       "      <td>South Africa</td>\n",
       "      <td>2023</td>\n",
       "      <td>0.113928</td>\n",
       "    </tr>\n",
       "    <tr>\n",
       "      <th>233</th>\n",
       "      <td>Ghana</td>\n",
       "      <td>2023</td>\n",
       "      <td>0.110411</td>\n",
       "    </tr>\n",
       "    <tr>\n",
       "      <th>228</th>\n",
       "      <td>Kenya</td>\n",
       "      <td>2022</td>\n",
       "      <td>0.088481</td>\n",
       "    </tr>\n",
       "    <tr>\n",
       "      <th>236</th>\n",
       "      <td>Tanzania</td>\n",
       "      <td>2023</td>\n",
       "      <td>0.084998</td>\n",
       "    </tr>\n",
       "    <tr>\n",
       "      <th>237</th>\n",
       "      <td>Ethiopia</td>\n",
       "      <td>2023</td>\n",
       "      <td>0.056382</td>\n",
       "    </tr>\n",
       "  </tbody>\n",
       "</table>\n",
       "</div>"
      ],
      "text/plain": [
       "          country  date     value\n",
       "231      Cambodia  2023  0.187300\n",
       "232        Uganda  2023  0.159609\n",
       "234  South Africa  2023  0.113928\n",
       "233         Ghana  2023  0.110411\n",
       "228         Kenya  2022  0.088481\n",
       "236      Tanzania  2023  0.084998\n",
       "237      Ethiopia  2023  0.056382"
      ]
     },
     "execution_count": 13,
     "metadata": {},
     "output_type": "execute_result"
    }
   ],
   "source": [
    "df.drop_duplicates(subset=['country'], keep='last').sort_values('value', ascending=False).head(10)"
   ]
  }
 ],
 "metadata": {
  "kernelspec": {
   "display_name": "base",
   "language": "python",
   "name": "python3"
  },
  "language_info": {
   "codemirror_mode": {
    "name": "ipython",
    "version": 3
   },
   "file_extension": ".py",
   "mimetype": "text/x-python",
   "name": "python",
   "nbconvert_exporter": "python",
   "pygments_lexer": "ipython3",
   "version": "3.11.4"
  }
 },
 "nbformat": 4,
 "nbformat_minor": 2
}
